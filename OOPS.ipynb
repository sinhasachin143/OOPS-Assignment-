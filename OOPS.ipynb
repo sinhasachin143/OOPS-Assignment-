{
  "nbformat": 4,
  "nbformat_minor": 0,
  "metadata": {
    "colab": {
      "provenance": []
    },
    "kernelspec": {
      "name": "python3",
      "display_name": "Python 3"
    },
    "language_info": {
      "name": "python"
    }
  },
  "cells": [
    {
      "cell_type": "markdown",
      "source": [
        "# Python OOPs Questions\n",
        "\n",
        "1. What is Object-Oriented Programming (OOP)?\n",
        "   - Object-oriented programming (OOP) is a computer programming model that organizes software design around objects, or data, instead of logic and functions. In OOP, objects are made up of data and functions, and programs are designed by making objects that interact with each other. An object can be defined as a data field that has unique attributes and behavior. In many object-oriented programming languages, this (also called self or Me ) is a variable that is used in instance methods to refer to the object on which they are working.\n",
        "\n",
        "\n",
        "2. What is a class in OOP?\n",
        "   - In object-oriented programming, a class is a blueprint for creating objects (a particular data structure), providing initial values for state (member variables or attributes), and implementations of behavior (member functions or methods). A class is a template definition of the methods and variables in a particular kind of object. Thus, an object is a specific instance of a class; it contains real values instead of variables. The class is one of the defining ideas of object-oriented programming.\n",
        "\n",
        "\n",
        "3. What is an object in OOP?\n",
        "   - An object is a component of a program that knows how to perform certain actions and how to interact with other elements of the program. Objects are the basic units of object-oriented programming. A simple example of an object would be a person. Logically, you would expect a person to have a name. In object-oriented programming (OOP), an object is a fundamental unit of code that represents a data field with a unique set of attributes and behaviors. An object is a data structure that contains fields (data) and methods (procedures) that define the object's behavior.\n",
        "\n",
        "\n",
        "4. What is the difference between abstraction and encapsulation?\n",
        "   - Abstraction and encapsulation are both key principles of Object-Oriented Programming (OOP) that help design software to be easy to use and maintain. The main difference between the two is that abstraction focuses on what an object does, while encapsulation focuses on how an object's data is accessed and manipulated.\n",
        "   - Abstraction:-\n",
        "   - Hides unnecessary details and exposes only the essential features of an object. This reduces complexity and increases efficiency. For example, a music streaming app's interface is simple and intuitive, while the complex code that runs in the background is hidden.\n",
        "   - Encapsulation:-\n",
        "   - Restricts direct access to some components of an object, such as data members and methods. This secures data and functions within a class, preventing unauthorized access and modification. For example, in Angular, a component's styles can be encapsulated within the component's host element so that they don't affect the rest of the application.\n",
        "   - Abstraction is a design-level process that is possible without implementation, while encapsulation requires implementation.\n",
        "   - Abstraction promotes code reusability by defining common interfaces and behaviors. Encapsulation promotes the use of modular code, allowing for the reuse of code in different parts of a program.\n",
        "   - Abstraction can be implemented using abstract classes and interfaces. Encapsulation can be implemented using access modifiers, such as private, protected, and public.\n",
        "   - Encapsulation is the practice of bundling data and methods within a single unit, like a class, and controlling their access, whereas abstraction is about hiding complex implementation details and exposing only the essential functionalities.\n",
        "\n",
        "\n",
        "5. What are dunder methods in Python?\n",
        "   - Dunder methods, also known as magic methods or special methods, are predefined methods in Python that have double underscores (or “dunders”) at the beginning and end of their names. These methods provide a way to define specific behaviors for built-in operations or functionalities in Python classes. (e.g., __init__, __str__). They allow you to customize the behavior of your classes and objects when interacting with built-in operations and functionalities.\n",
        "  - 1*. __init__ method\n",
        "  - The __init__ method for initialization is invoked without any call, when an instance of a class is created, like constructors in certain other programming languages such as C++, Java, C#, PHP, etc.\n",
        "  - These methods are the reason we can add two strings with the ‘+’ operator without any explicit typecasting.\n",
        "  - 2*. __repr__ method\n",
        "  - __repr__ method in Python defines how an object is presented as a string.\n",
        "  - The below snippet of code prints only the memory address of the string object. Let’s add a __repr__ method to represent our object.\n",
        "  - 3*. __add__ method\n",
        "  - __add__ method in Python defines how the objects of a class will be added together. It is also known as overloaded addition operator.\n",
        "  -     In Python, a “dunder” or “magic” method is a method that has double underscores before and after its name. These methods are not meant to be invoked directly by you, but the interpretation of them gets invoked internally by the Python interpreter to perform specific actions. For example, when you add two numbers with the + operator, the __add__ method is invoked.\n",
        "\n",
        "\n",
        "\n",
        "   \n",
        "6. Explain the concept of inheritance in OOP?   \n",
        "   - Inheritance is a fundamental concept in object-oriented programming (OOP) that allows a class to inherit properties and behaviors from another class. This creates a hierarchical relationship between classes, where the class that inherits is called the subclass or child class, and the class it inherits from is called the superclass or parent class. It is a fundamental concept in OOP that promotes code reuse and establishes relationships between classes. Subclasses can inherit attributes and methods from their superclass, which reduces redundancy and makes code more efficient. Inheritance creates a clear relationship between classes, which makes it easier to build and extend classes. Inheritance makes it easier to maintain code. Some common types of inheritance include single, multiple, multilevel, hierarchical, and hybrid inheritance. Each type of inheritance has a different structural relationship between classes.\n",
        "  - Python Inheritance Syntax:-\n",
        "  - Parent Class:\n",
        "  - This is the base class from which other classes inherit.\n",
        "  - It contains attributes and methods that the child class can reuse.\n",
        "  - Child Class:\n",
        "  - This is the derived class that inherits from the parent class.\n",
        "  - The syntax for inheritance is class ChildClass(ParentClass).\n",
        "  - The child class automatically gets all attributes and methods of the parent class unless overridden.\n",
        "\n",
        "\n",
        "7. What is polymorphism in OOP?\n",
        "   - Polymorphism is a concept in object-oriented programming (OOP) that allows different types of objects to be treated as objects of a common superclass. It's a key concept in OOP that enables code reusability and flexibility. Polymorphism allows multiple classes to implement the same method in different ways, which increases the ability to reuse code. Polymorphism allows a single interface to be used for different underlying data types. Polymorphism allows different objects to respond in a unique way to the same message. Polymorphism allows entities to be assigned different meanings and used in various ways in multiple contexts. Polymorphism allows a single variable name to be used to store variables of multiple data types. Polymorphism is the ability of any data to be processed in more than one form. The word itself indicates the meaning as poly means many and morphism means types. Polymorphism is one of the most important concepts of object-oriented programming languages. The most common use of polymorphism in object-oriented programming occurs when a parent class reference is used to refer to a child class object. Here we will see how to represent any function in many types and many forms. In a real-life example of polymorphism, a person at the same time can have different roles to play in life. Like a woman, at the same time is a mother, a wife, an employee and a daughter. So the same person has to have many features but has to implement each as per the situation and the condition. Polymorphism is considered as one of the important features of Object Oriented Programming. Polymorphism is the key power of object-oriented programming. It is so important that languages that don’t support polymorphism cannot advertise themselves as Object-Oriented languages. Languages that possess classes but have no ability of polymorphism are called object-based languages. Thus it is very vital for an object-oriented programming language. It is the ability of an object or reference to take many forms in different instances. It implements the concept of function overloading, function overriding and virtual functions.\n",
        "\n",
        "\n",
        "8. How is encapsulation achieved in Python?\n",
        "   - Encapsulation in Python is achieved through conventions and naming conventions rather than strict access modifiers like in some other languages.\n",
        "   - Public:-\n",
        "  - By default, all members (attributes and methods) of a class are public. They can be accessed from anywhere, both inside and outside the class.\n",
        "  - Protected:-\n",
        "  - Members prefixed with a single underscore (_) are considered protected. This is a convention indicating that they should not be accessed directly from outside the class, but they can be accessed by subclasses.\n",
        "  - Private:-\n",
        "  - Members prefixed with a double underscore (__) are considered private. Python performs name mangling on these members, making them harder to access from outside the class.\n",
        "  - Python's encapsulation is not enforced strictly by the language. It relies on the developer to follow conventions. Name mangling for private members prevents accidental access from outside the class, but it does not provide complete security. Use getters and setters to control access to attributes if you need more fine-grained control over their modification.\n",
        "\n",
        "\n",
        "9. What is a constructor in Python?\n",
        "   - Constructors in Python is a special class method for creating and initializing an object instance at that class. Every Python class has a constructor; it's not required to be defined explicitly. The purpose of the constructor is to construct an object and assign a value to the object's members. In Python, a constructor is a special method that is automatically called when an object of a class is created. It is used to initialize the attributes of the object.\n",
        "   - Method Name:-\n",
        "   - The constructor method in Python is named __init__.\n",
        "   - Purpose:-\n",
        "   - The main purpose of constructors is to set the initial state of an object by assigning values to its attributes.\n",
        "   - self:-\n",
        "   - The first argument of the __init__ method is always self, which refers to the instance of the class being created.\n",
        "   - Automatic Call:-\n",
        "   - The constructor is called automatically when you create a new object using the class.\n",
        "\n",
        "   \n",
        "10. What are class and static methods in Python?\n",
        "    - The @classmethod decorator is a built-in function decorator that is an expression that gets evaluated after your function is defined. The result of that evaluation shadows your function definition. A class method receives the class as an implicit first argument, just like an instance method receives the instance.\n",
        "    - A static method does not receive an implicit first argument. A static method is also a method that is bound to the class and not the object of the class. This method can't access or modify the class state. It is present in a class because it makes sense for the method to be present in class.\n",
        "    - A class method is a method that is bound to the class and not the object of the class. They have the access to the state of the class as it takes a class parameter that points to the class and not the object instance. It can modify a class state that would apply across all the instances of the class. For example, it can modify a class variable that will be applicable to all the instances. We generally use the class method to create factory methods. Factory methods return class objects ( similar to a constructor ) for different use cases.\n",
        "    - We generally use static methods to create utility functions.\n",
        "    - A class method takes cls as the first parameter while a static method needs no specific parameters.\n",
        "    - A class method can access or modify the class state while a static method can’t access or modify it.\n",
        "    - In general, static methods know nothing about the class state. They are utility-type methods that take some parameters and work upon those parameters. On the other hand class methods must have class as a parameter.\n",
        "    - We use @classmethod decorator in python to create a class method and - we use @staticmethod decorator to create a static method in python.\n",
        "\n",
        "\n",
        "11. What is method overloading in Python?\n",
        "    - Two or more methods have the same name but different numbers of parameters or different types of parameters, or both. These methods are called overloaded methods and this is called method overloading.    \n",
        "    - If you define multiple methods with the same name in a class, the last one defined will override any previous methods with the same name. In this example, the add method accepts a variable number of arguments using *args. Method overloading is a feature of object-oriented programming where a class can have multiple methods with the same name but different parameters. To overload method, we must change the number of parameters or the type of parameters, or both.\n",
        "    - Method Overloading in Python:-\n",
        "    - Unlike other programming languages like Java, C++, and C#, Python does not support the feature of method overloading by default. However, there are alternative ways to achieve it. If you define a method multiple times as shown in the below code, the last definition will override the previous ones. Therefore, this way of achieving method overloading in Python generates error. Method overloading, in the traditional sense, doesn't exist in Python like it does in some other languages like Java or C++. However, Python offers flexibility to achieve similar functionality through different approaches.\n",
        "\n",
        "12. What is method overriding in OOP?\n",
        "    - Method overriding is a feature in object-oriented programming (OOP) that allows a subclass to define its own implementation of a method that is already defined in its superclass. The subclass's method has the same name, parameters, and return type as the superclass's method. The version of the method that is executed depends on the object used to invoke it. Method overriding allows developers to customize the behavior of inherited methods without modifying the parent class's code. It also enables polymorphism, which allows objects of different classes to be treated interchangeably. Method overriding can be used in GUI libraries to customize buttons to respond differently to user interactions. It can also be used in game development to give different characters unique abilities while sharing common behaviors.\n",
        "    - super().__init__(): This ensures that the parent class’s constructor is called, initializing any attributes defined in the parent class - - -It’s good practice to call the parent class constructor if it does important initialization.\n",
        "    - Method Override: The Child class overrides the show() method of the Parent class, so when show() is called on an instance of Child, it uses the Child class’s implementation.\n",
        "    - The version of a method that is executed will be determined by the object that is used to invoke it. If an object of a parent class is used to invoke the method, then the version in the parent class will be executed, but if an object of the subclass is used to invoke the method, then the version in the child class will be executed. In other words, it is the type of the object being referred to (not the type of the reference variable) that determines which version of an overridden method will be executed.\n",
        "\n",
        "\n",
        "13. What is a property decorator in Python?\n",
        "    - The decorator is a built-in Python decorator that allows you to turn class methods into properties in a way that's both elegant and user-friendly. In Python, a property decorator (@property) is used to define methods that can be accessed like attributes. This allows you to encapsulate attribute access and add additional logic (e.g., validation, computation) while maintaining a clean syntax.\n",
        "    - Getter:-\n",
        "    - The @property decorator is applied to a method that acts as a getter for the attribute. This method is called when you access the attribute.\n",
        "    - Setter:-\n",
        "    - You can also define a setter method using the @attribute.setter decorator. This method is called when you assign a value to the attribute.\n",
        "    - Deleter:-\n",
        "    - Similarly, you can define a deleter method using the @attribute.deleter decorator. This method is called when you delete the attribute.  \n",
        "    - A decorator feature in Python wraps in a function, appends several functionalities to existing code and then returns it. Methods and functions are known to be callable as they can be called. Therefore, a decorator is also a callable that returns callable. This is also known as metaprogramming as at compile time a section of program alters another section of the program. @property decorator is a built-in decorator in Python which is helpful in defining the properties effortlessly without manually calling the inbuilt function property(). Which is used to return the property attributes of a class from the stated getter, setter and deleter as parameters.\n",
        "\n",
        "\n",
        "14. Why is polymorphism important in OOP?\n",
        "    - Polymorphism is an important feature of object-oriented programming (OOP) because it allows for more efficient code, improved readability, and easier extensibility.\n",
        "    - Code reusability: Polymorphism allows programmers to reuse code, which saves time and speeds up development.\n",
        "    - Readability: Polymorphism improves code readability and maintenance.\n",
        "    - Extensibility: Polymorphism allows developers to create new classes derived from existing classes, without modifying the original code.\n",
        "    - Method overloading and overriding: Polymorphism allows programmers to redefine methods for derived classes.\n",
        "    - Multiple forms: Polymorphism allows programmers to define multiple forms of a single object, variable, or method.\n",
        "    - Single method name: Polymorphism allows programmers to use a single method name to invoke the correct method depending on the class.\n",
        "    - Switch statements: Polymorphism allows programmers to replace conditional statements with switch statements.\n",
        "    - Variable searches: Polymorphism simplifies variable searches and execution.\n",
        "    - Code debugging: Polymorphism simplifies code debugging.\n",
        "    - Polymorphism is a feature of object-oriented programming languages that allows a specific routine to use variables of different types at different times. Polymorphism in programming gives a program the ability to redefine methods for derived classes.\n",
        "\n",
        "\n",
        "15. What is an abstract class in Python?\n",
        "    - In Python, an abstract class is a class that cannot be instantiated on its own and is designed to be a blueprint for other classes. Abstract classes allow us to define methods that must be implemented by subclasses, ensuring a consistent interface while still allowing the subclasses to provide specific implementations. It defines methods that must be implemented by its subclasses, ensuring that the subclasses follow a consistent structure. ABCs allow you to define common interfaces that various subclasses can implement while enforcing a level of abstraction. Python provides the abc module to define ABCs and enforce the implementation of abstract methods in subclasses.\n",
        "    - Abstract methods are methods that are defined in an abstract class but do not have an implementation. They serve as a blueprint for the subclasses, ensuring that they provide their own implementation.\n",
        "    - Concrete methods are methods that have full implementations in an abstract class. These methods can be inherited by subclasses and used directly without needing to be redefined. - - - - Abstract properties work like abstract methods but are used for properties. These properties are declared with the @property decorator and marked as abstract using @abstractmethod. Subclasses must implement these properties.\n",
        "    - Abstract classes cannot be instantiated directly. This is because they contain one or more abstract methods or properties that lack implementations. Attempting to instantiate an abstract class results in a TypeError.\n",
        "\n",
        "\n",
        "16. What are the advantages of OOP?\n",
        "    -  The main advantages of OOP include improved code organization through encapsulation, reusability via inheritance, flexibility with polymorphism, and simplification of complex systems through abstraction.\n",
        "    - Object-oriented programming (OOP) has many advantages, including:-\n",
        "    - Modularity:-\n",
        "    - OOP allows developers to divide complex systems into smaller, more manageable objects. This makes troubleshooting and collaboration easier.\n",
        "    - Reusability:-\n",
        "    - OOP allows developers to reuse code through inheritance, which saves time and effort.\n",
        "    - Flexibility:-\n",
        "    - OOP's polymorphism feature allows a single function to adapt to the class it's in.\n",
        "    - Security:-\n",
        "    - OOP's encapsulation feature bundles data inside objects, making the code more secure.\n",
        "    - Scalability:-\n",
        "    - OOP's support for inheritance and polymorphism makes it easier to scale and extend software systems.\n",
        "    - Readability and maintainability:-\n",
        "    - OOP's clear structure makes it easier for developers to understand and modify existing code.\n",
        "    - Wide adoption:-\n",
        "    - OOP is widely adopted in the software industry, so developers have access to many resources, tools, and community support.\n",
        "    - Ease of use:-\n",
        "    - IDEs work well with OOP, so developers don't need to install additional plug-ins.\n",
        "    - OOP is a top choice for developers who want to keep their code efficient and easy to work with. It's especially useful in fields like software development, data science, and game design.\n",
        "    - Code Maintenance:-\n",
        "    - This feature is more of a necessity for any programming languages; it helps users from doing re-work in many ways. It is always easy and time-saving to maintain and modify the existing codes by incorporating new changes into them.\n",
        "    - Design Benefits:-\n",
        "    - If you are practicing on OOPs, the design benefit a user will get is in terms of designing and fixing things easily and eliminating the risks (if any). Here the Object-Oriented Programs forces the designers to have a long and extensive design phase, which results in better designs and fewer flaws. After a time when the program has reached some critical limits, it is easier to program all the non-OOP’s one separately.\n",
        "    -  Better productivity:-\n",
        "    - with the above-mentioned facts of using the application definitely enhances its users overall productivity. This leads to more work done, finishing a better program, having more inbuilt features, and easier reading, writing and maintaining. An OOP programmer cans stitch new software objects to make completely new programs. A good number of libraries with useful functions in abundance make it possible.\n",
        "\n",
        "\n",
        "17. What is the difference between a class variable and an instance variable?\n",
        "    - Class Variable: It is basically a static variable that can be declared anywhere at class level with static. Across different objects, these variables can have only one value. These variables are not tied to any particular object of the class, therefore, can share across all objects of the class.  \n",
        "    - Instance Variable: It is basically a class variable without a static modifier and is usually shared by all class instances. Across different objects, these variables can have different values. They are tied to a particular object instance of the class, therefore, the contents of an instance variable are totally independent of one object instance to others.\n",
        "    - The difference between a class variable and an instance variable are:-\n",
        "    - # Instance Variable:-\n",
        "    - 1* It is a variable whose value is instance-specific and now shared among instances.  \n",
        "    - 2* These variables cannot be shared between classes. Instead, they only belong to one specific class.  \n",
        "    - 3* It usually reserves memory for data that the class needs.  \n",
        "    - 4* It is generally created when an instance of the class is created.  \n",
        "    - 5* It normally retains values as long as the object exists.  \n",
        "    - 6* It has many copies so every object has its own personal copy of the instance variable.\n",
        "    - 7* It can be accessed directly by calling variable names inside the class.\n",
        "    - 8* These variables are declared without using the static keyword.\n",
        "    - 9* Changes that are made to these variables through one object will not reflect in another object.\n",
        "    - # Class Variable:-\n",
        "    - 1* It is a variable that defines a specific attribute or property for a class.\n",
        "    - 2* These variables can be shared between class and its subclasses.\n",
        "    - 3* It usually maintains a single shared value for all instances of class even if no instance object of the class exists.  \n",
        "    - 4* It is generally created when the program begins to execute.  \n",
        "    - 5* It normally retains values until the program terminates.\n",
        "    - 6* It has only one copy of the class variable so it is shared among different objects of the class.  \n",
        "    - 7* It can be accessed by calling with the class name.  \n",
        "    - 8* These variables are declared using the keyword static.  \n",
        "    - 9* Changes that are made to these variables through one object will reflect in another object.\n",
        "\n",
        "\n",
        "18. What is multiple inheritance in Python?\n",
        "    - In Python, multiple inheritance is a feature that allows a class to inherit from more than one parent class. This means that the child class can access and use the attributes and methods of all its parent classes. If a child class is inheriting the properties of a single other class, we call it single inheritance. However, if a child class inherits from more than one class, i.e. this child class is derived from multiple classes, we call it multiple inheritance in Python. Inheritance is the mechanism to achieve the re-usability of code as one class(child class) can derive the properties of another class(parent class). It also provides transitivity ie. if class C inherits from P then all the sub-classes of C would also inherit from P.\n",
        "    - Multiple Inheritance:-\n",
        "    - when a class is derived from more than one base class it is called multiple Inheritance. The derived class inherits all the features of the base case.\n",
        "    - Method Resolution Order (MRO):-\n",
        "    - When a child class inherits from multiple parent classes, the order in which the parent classes are searched for attributes and methods is determined by the MRO. Python uses a C3 linearization algorithm to calculate the MRO.\n",
        "    - Diamond Problem:-\n",
        "    - Multiple inheritance can lead to the \"diamond problem,\" which occurs when a class inherits from two classes that have a common ancestor. Python resolves this issue using the MRO.\n",
        "\n",
        "\n",
        "19. Explain the purpose of ‘’__str__’ and ‘__repr__’ ‘ methods in Python?\n",
        "    -  __str__ is used in to show a string representation of your object to be read easily by others. __repr__ is used to show a string representation of the object. __str__() is for creating a readable representation of an object for end-users. __repr__() is for creating a detailed and precise representation for developers.\n",
        "    - In Python, __str__ and __repr__ are special methods used to define string representations of objects:-\n",
        "    - # str(self):\n",
        "    - Purpose: Provides a user-friendly string representation of the object.\n",
        "    - Intended audience: End-users.\n",
        "    - When called: Used by print() function, str() function, and the format() method.\n",
        "    - # repr(self):\n",
        "    - Purpose: Provides an unambiguous, developer-friendly string representation of the object.\n",
        "    - Intended audience: Developers.\n",
        "    - When called: Used by repr() function and when an object is displayed in the interactive interpreter.\n",
        "    - Ideal behavior: The string returned should be a valid Python expression that can be used to recreate the object.\n",
        "\n",
        "    - 1* Target audience: __str__ is for end-users, providing a readable representation. __repr__ is for developers, providing a more detailed and unambiguous representation.\n",
        "    - 2* Fallback: If __str__ is not defined, Python falls back to using __repr__ when trying to create a string representation.\n",
        "    - 3* Use case: Use __str__ for displaying objects in a user-friendly way. Use __repr__ for debugging and development purposes.\n",
        "\n",
        "\n",
        "20. What is the significance of the ‘super()’ function in Python?\n",
        "    - In Python, the super() function is used to access methods and properties of a parent or superclass from a child or subclass. It's particularly useful when working with inheritance in object-oriented programming.\n",
        "    - Points about super():-\n",
        "    - Accessing parent class methods:\n",
        "    - super() allows you to call a method from the parent class, even if the child class has overridden that method. This is especially handy for extending the functionality of a parent class method in the child class.\n",
        "    - Avoiding explicit parent class references:\n",
        "    - By using super(), you don't need to explicitly name the parent class. This makes your code more flexible and easier to maintain, especially in complex inheritance hierarchies.\n",
        "    - Common use case in __init__:\n",
        "    - One common use of super() is within the __init__ method of a child class. This allows you to initialize the parent class's attributes before initializing the child class's specific attributes.\n",
        "    - Multiple inheritance:\n",
        "    - super() is essential for working with multiple inheritance in Python. It helps navigate the complex method resolution order (MRO) and ensures that methods are called in the correct order from the parent classes.\n",
        "    - A method from a parent class can be called in Python using the super() function. It’s typical practice in object-oriented programming to call the methods of the superclass and enable method overriding and inheritance. Even if the current class has replaced those methods with its own implementation, calling super() allows you to access and use the parent class’s methods. By doing this, you may enhance and modify the parent class’s behavior while still gaining from it.\n",
        "\n",
        "\n",
        "21. What is the significance of the __del__ method in Python?\n",
        "    - __del__ is a finalizer. It is called when an object is garbage collected which happens at some point after all references to the object have been deleted. In a simple case this could be right after you say del x or, if x is a local variable, after the function ends.\n",
        "    - In Python, the __del__ method is a special method known as a destructor. It is called when an object is about to be destroyed, which can happen when:\n",
        "    - Reference count reaches zero: No more variables or data structures reference the object.\n",
        "    - Python interpreter shuts down: The program exits.\n",
        "    - Significance of the __del__ method:\n",
        "    - Resource cleanup:\n",
        "    - It allows you to define specific actions that should be taken when an object is garbage collected, such as:\n",
        "    - Closing files\n",
        "    - Releasing locks\n",
        "    - Closing network connections\n",
        "    - Finalization:\n",
        "    - You can perform any necessary cleanup or finalization actions before the object is removed from memory.\n",
        "    - Important points to consider:\n",
        "    - Not guaranteed to be called:\n",
        "    - The __del__ method is not guaranteed to be called in all circumstances. For example, if your program terminates abnormally, the interpreter might not have a chance to execute destructors.\n",
        "    - Avoid circular references:\n",
        "    - If objects reference each other in a circular way, their reference counts may never reach zero, preventing the destructor from being called.\n",
        "    - Use with caution:\n",
        "    - The __del__ method can introduce unexpected behavior if not used carefully. It is generally better to use try...finally blocks or context managers (with statement) to ensure proper resource cleanup.\n",
        "\n",
        "\n",
        "22. What is the difference between @staticmethod and @classmethod in Python?\n",
        "    - The difference between @staticmethod and @classmethod in Python are:-\n",
        "    -     A class method takes cls as the first parameter while a static - - method needs no specific parameters.\n",
        "    - A class method can access or modify the class state while a static method can’t access or modify it.\n",
        "    -  In general, static methods know nothing about the class state. They are utility-type methods that take some parameters and work upon those parameters. On the other hand class methods must have class as a parameter.\n",
        "    - We use @classmethod decorator in python to create a class method and we use @staticmethod decorator to create a static method in python.\n",
        "    - We generally use the class method to create factory methods. Factory methods return class objects ( similar to a constructor ) for different use cases.\n",
        "    - We generally use static methods to create utility functions.\n",
        "    - # @staticmethod:\n",
        "    - Purpose: Used for methods that don't need access to the class or instance attributes. Essentially, they are utility functions that are logically related to the class but don't require any specific instance data.\n",
        "    - Arguments: Doesn't take any special arguments, just like regular functions.\n",
        "    - Access: Cannot access class or instance attributes directly.\n",
        "    - # @classmethod:\n",
        "    - Purpose: Used for methods that need access to the class itself, such as methods that create instances of the class or manipulate class-level attributes.\n",
        "    - Arguments: Takes the class itself (cls) as the first argument, automatically passed by Python.\n",
        "    - Access: Can access and modify class attributes.\n",
        "\n",
        "\n",
        "23. How does polymorphism work in Python with inheritance?\n",
        "    - Polymorphism in Python with inheritance works through a concept called method overriding. Polymorphism, a child class method is allowed to have the same name as the class methods in the parent class. In inheritance, the methods belonging to the parent class are passed down to the child class.\n",
        "    - Inheritance:\n",
        "    - A child class inherits methods and attributes from its parent class.\n",
        "    - This means the child class can use the methods and attributes defined in the parent class without having to redefine them.\n",
        "    - Method Overriding:\n",
        "    - If a child class needs to modify the behavior of a method inherited from its parent class, it can redefine that method with the same name.This is called method overriding.\n",
        "    - When you call the overridden method on an object of the child class, the child class's implementation is executed instead of the parent class's implementation.\n",
        "    - Inheritance can be single, hybrid, multiple, hierarchical and multilevel inheritance. Whereas it can be compiled-time polymorphism (overload) as well as run-time polymorphism (overriding).\n",
        "\n",
        "\n",
        "24. What is method chaining in Python OOP?\n",
        "    - Method chaining in Python OOP is a technique where you call multiple methods on an object in a single line of code. This is achieved by having each method return the object itself (usually using return self).\n",
        "    - How it works:\n",
        "    - Each method modifies the object and returns the modified object.\n",
        "    - This allows you to immediately call another method on the returned object, creating a chain of method calls.\n",
        "    - Benefits:\n",
        "    - Readability:\n",
        "    - It can make your code more concise and easier to read, especially when performing multiple operations on the same object.\n",
        "    - Fluency:\n",
        "    - It creates a more fluent and natural way of expressing a sequence of operations.\n",
        "    - Efficiency:\n",
        "    - It can reduce the need for temporary variables to store intermediate results.\n",
        "    - Important Considerations:\n",
        "    - Overuse: While method chaining can be beneficial, excessive chaining can make your code harder to understand and debug.\n",
        "    - Return Value: Ensure that each method returns the correct object to enable chaining.\n",
        "    - Method chaining refers to calling multiple methods sequentially on the same object in a single expression. Each method call returns an object, often the same object (modified or not), allowing the subsequent method to operate on that object.\n",
        "    - In method chaining, the result of one method call becomes the context for the next method. This allows for concise and readable code, especially when working with objects that require several transformations or operations.\n",
        "    - In Python, method chaining works by ensuring that the return value of a method is either the modified object itself or another object that can be further acted upon. Methods that return None cannot be chained directly because they end the chain of execution.\n",
        "    - For method chaining to be effective, methods must return an object, usually self in the context of object-oriented programming. This enables further method calls on the same object.\n",
        "    \n",
        "\n",
        "25. What is the purpose of the __call__ method in Python?\n",
        "    - The __call__ method is part of Python build-in methods also called dunder or magic methods because have two prefixes and suffix underscores in the method name. The main idea of __call__ method is to write a class and invoke it like a function. You can refer to it as callable object. The __call__ method in Python allows you to make instances of your classes callable, meaning you can treat them like functions.\n",
        "    - Here's how it works:\n",
        "    - Defining __call__:\n",
        "    - When you define a __call__ method within a class, you essentially specify what happens when an instance of that class is called as a function.\n",
        "    - Making instances callable:\n",
        "    - By implementing __call__, you enable the following syntax: object() which is equivalent to object.__call__().\n",
        "    - Use cases:\n",
        "    - This can be useful for creating objects that behave like functions, such as decorators, or for implementing classes that represent mathematical operations.\n",
        "    - Function Objects: Creating objects that can be called like functions. For example, creating a function that maintains state across calls.\n",
        "    - Decorators: Implementing decorators as classes where __call__ defines the wrapping logic.\n",
        "    - Callbacks: Defining objects that act as callbacks or handlers.\n",
        "    - Command Pattern: Encapsulating commands and actions within objects that can be executed with a call.\n",
        "\n",
        "\n",
        "\n",
        "\n",
        "\n",
        "\n",
        "\n",
        "   \n",
        "\n",
        "\n",
        "\n",
        "\n",
        "\n",
        "\n",
        "    \n",
        "\n",
        "\n",
        "\n",
        "\n",
        "\n",
        "\n",
        "\n",
        "\n",
        "\n",
        "\n"
      ],
      "metadata": {
        "id": "mmIi0S0pxnWT"
      }
    },
    {
      "cell_type": "code",
      "source": [
        "# Practical Questions:\n",
        "# 1. Create a parent class Animal with a method speak() that prints a generic message. Create a child class Dog that overrides the speak() method to print \"Bark!\".\n",
        "class Animal:\n",
        "    def speak(self):\n",
        "        print(\"Generic animal sound\")\n",
        "\n",
        "class Dog(Animal):\n",
        "    def speak(self):\n",
        "        print(\"Bark!\")\n",
        "\n",
        "animal = Animal()\n",
        "animal.speak()\n",
        "\n",
        "dog = Dog()\n",
        "dog.speak()"
      ],
      "metadata": {
        "colab": {
          "base_uri": "https://localhost:8080/"
        },
        "id": "NDEmObeW2c0y",
        "outputId": "463b9f83-e454-49bf-9669-fcd34b0c361a"
      },
      "execution_count": 3,
      "outputs": [
        {
          "output_type": "stream",
          "name": "stdout",
          "text": [
            "Generic animal sound\n",
            "Bark!\n"
          ]
        }
      ]
    },
    {
      "cell_type": "code",
      "execution_count": 4,
      "metadata": {
        "colab": {
          "base_uri": "https://localhost:8080/"
        },
        "id": "W4N3sttswtYi",
        "outputId": "4d9d1797-c560-4bc5-e3f7-8c97e8f6aeb2"
      },
      "outputs": [
        {
          "output_type": "stream",
          "name": "stdout",
          "text": [
            "Area of Circle: 78.53981633974483\n",
            "Area of Rectangle: 24\n"
          ]
        }
      ],
      "source": [
        "# 2. Write a program to create an abstract class Shape with a method area(). Derive classes Circle and Rectangle from it and implement the area() method in both.\n",
        "from abc import ABC, abstractmethod\n",
        "import math\n",
        "\n",
        "class Shape(ABC):\n",
        "    @abstractmethod\n",
        "    def area(self):\n",
        "        pass\n",
        "\n",
        "class Circle(Shape):\n",
        "    def __init__(self, radius):\n",
        "        self.radius = radius\n",
        "\n",
        "    def area(self):\n",
        "        return math.pi * (self.radius ** 2)\n",
        "\n",
        "class Rectangle(Shape):\n",
        "    def __init__(self, width, height):\n",
        "        self.width = width\n",
        "        self.height = height\n",
        "\n",
        "    def area(self):\n",
        "        return self.width * self.height\n",
        "\n",
        "\n",
        "circle = Circle(5)\n",
        "print(\"Area of Circle:\", circle.area())\n",
        "\n",
        "rectangle = Rectangle(4, 6)\n",
        "print(\"Area of Rectangle:\", rectangle.area())"
      ]
    },
    {
      "cell_type": "code",
      "source": [
        "# 3. Implement a multi-level inheritance scenario where a class Vehicle has an attribute type. Derive a class Car and further derive a class ElectricCar that adds a battery attribute.\n",
        "class Vehicle:\n",
        "    def __init__(self, vehicle_type):\n",
        "        self.vehicle_type = vehicle_type\n",
        "\n",
        "    def display_type(self):\n",
        "        print(f\"Vehicle Type: {self.vehicle_type}\")\n",
        "\n",
        "class Car(Vehicle):\n",
        "    def __init__(self, vehicle_type, brand):\n",
        "        super().__init__(vehicle_type)\n",
        "        self.brand = brand\n",
        "\n",
        "    def display_info(self):\n",
        "        print(f\"Car Brand: {self.brand}\")\n",
        "\n",
        "class ElectricCar(Car):\n",
        "    def __init__(self, vehicle_type, brand, battery_capacity):\n",
        "        super().__init__(vehicle_type, brand)\n",
        "        self.battery_capacity = battery_capacity\n",
        "\n",
        "    def display_battery(self):\n",
        "        print(f\"Battery Capacity: {self.battery_capacity} kWh\")\n",
        "\n",
        "\n",
        "vehicle = Vehicle(\"General Vehicle\")\n",
        "vehicle.display_type()\n",
        "\n",
        "car = Car(\"Car\", \"Honda\")\n",
        "car.display_type()\n",
        "car.display_info()\n",
        "\n",
        "electric_car = ElectricCar(\"Electric Car\", \"Tesla\", 100)\n",
        "electric_car.display_type()\n",
        "electric_car.display_info()\n",
        "electric_car.display_battery()"
      ],
      "metadata": {
        "colab": {
          "base_uri": "https://localhost:8080/"
        },
        "id": "3pRw6qw797z_",
        "outputId": "7042ba6c-9af6-4ac3-f2fb-622239354fe1"
      },
      "execution_count": 7,
      "outputs": [
        {
          "output_type": "stream",
          "name": "stdout",
          "text": [
            "Vehicle Type: General Vehicle\n",
            "Vehicle Type: Car\n",
            "Car Brand: Honda\n",
            "Vehicle Type: Electric Car\n",
            "Car Brand: Tesla\n",
            "Battery Capacity: 100 kWh\n"
          ]
        }
      ]
    },
    {
      "cell_type": "code",
      "source": [
        "# 4. Implement a multi-level inheritance scenario where a class Vehicle has an attribute type. Derive a class Car and further derive a class ElectricCar that adds a battery attribute.\n",
        "class Vehicle:\n",
        "    def __init__(self, vehicle_type):\n",
        "        self.vehicle_type = vehicle_type\n",
        "\n",
        "    def display_type(self):\n",
        "        print(f\"Vehicle Type: {self.vehicle_type}\")\n",
        "\n",
        "class Car(Vehicle):\n",
        "    def __init__(self, vehicle_type, brand):\n",
        "        super().__init__(vehicle_type)\n",
        "        self.brand = brand\n",
        "\n",
        "    def display_info(self):\n",
        "        print(f\"Car Brand: {self.brand}\")\n",
        "\n",
        "class ElectricCar(Car):\n",
        "    def __init__(self, vehicle_type, brand, battery_capacity):\n",
        "        super().__init__(vehicle_type, brand)\n",
        "        self.battery_capacity = battery_capacity\n",
        "\n",
        "    def display_battery(self):\n",
        "        print(f\"Battery Capacity: {self.battery_capacity} kWh\")\n",
        "\n",
        "\n",
        "vehicle = Vehicle(\"General Vehicle\")\n",
        "vehicle.display_type()\n",
        "\n",
        "car = Car(\"Car\", \"Toyota\")\n",
        "car.display_type()\n",
        "car.display_info()\n",
        "\n",
        "electric_car = ElectricCar(\"Electric Car\", \"Tesla\", 75)\n",
        "electric_car.display_type()\n",
        "electric_car.display_info()\n",
        "electric_car.display_battery()"
      ],
      "metadata": {
        "colab": {
          "base_uri": "https://localhost:8080/"
        },
        "id": "V3dZPYx__1vA",
        "outputId": "db9fde53-becb-41d8-e2f6-d45e59b2f1f6"
      },
      "execution_count": 8,
      "outputs": [
        {
          "output_type": "stream",
          "name": "stdout",
          "text": [
            "Vehicle Type: General Vehicle\n",
            "Vehicle Type: Car\n",
            "Car Brand: Toyota\n",
            "Vehicle Type: Electric Car\n",
            "Car Brand: Tesla\n",
            "Battery Capacity: 75 kWh\n"
          ]
        }
      ]
    },
    {
      "cell_type": "code",
      "source": [
        "# 5. Write a program to demonstrate encapsulation by creating a class BankAccount with private attributes balance and methods to deposit, withdraw, and check balance.\n",
        "class BankAccount:\n",
        "    def __init__(self):\n",
        "        self.__balance = 0  # Private attribute\n",
        "\n",
        "    def deposit(self, amount):\n",
        "        if amount > 0:\n",
        "            self.__balance += amount\n",
        "            print(f\"Deposited: ${amount:.2f}\")\n",
        "        else:\n",
        "            print(\"Deposit amount must be positive.\")\n",
        "\n",
        "    def withdraw(self, amount):\n",
        "        if 0 < amount <= self.__balance:\n",
        "            self.__balance -= amount\n",
        "            print(f\"Withdrew: ${amount:.2f}\")\n",
        "        else:\n",
        "            print(\"Insufficient funds or invalid withdrawal amount.\")\n",
        "\n",
        "    def check_balance(self):\n",
        "        print(f\"Current Balance: ${self.__balance:.2f}\")\n",
        "\n",
        "account = BankAccount()\n",
        "account.deposit(500)\n",
        "account.check_balance()\n",
        "account.withdraw(100)\n",
        "account.check_balance()\n",
        "account.withdraw(500)\n"
      ],
      "metadata": {
        "colab": {
          "base_uri": "https://localhost:8080/"
        },
        "id": "cfiTICQrDFwu",
        "outputId": "4fb6c869-abc6-41ee-f6ab-ceb95fb876f8"
      },
      "execution_count": 7,
      "outputs": [
        {
          "output_type": "stream",
          "name": "stdout",
          "text": [
            "Deposited: $500.00\n",
            "Current Balance: $500.00\n",
            "Withdrew: $100.00\n",
            "Current Balance: $400.00\n",
            "Insufficient funds or invalid withdrawal amount.\n"
          ]
        }
      ]
    },
    {
      "cell_type": "code",
      "source": [
        "# 6. Demonstrate runtime polymorphism using a method play() in a base class Instrument. Derive classes Guitar and Piano that implement their own version of play().\n",
        "class Instrument:\n",
        "    def play(self):\n",
        "        raise NotImplementedError(\"Subclasses must implement this method\")\n",
        "\n",
        "class Guitar(Instrument):\n",
        "    def play(self):\n",
        "        print(\"Strumming the guitar!\")\n",
        "\n",
        "class Piano(Instrument):\n",
        "    def play(self):\n",
        "        print(\"Playing the piano!\")\n",
        "\n",
        "\n",
        "def perform(instrument):\n",
        "    instrument.play()\n",
        "\n",
        "# Creating instances of Guitar and Piano\n",
        "guitar = Guitar()\n",
        "piano = Piano()\n",
        "\n",
        "# Demonstrating runtime polymorphism\n",
        "perform(guitar)\n",
        "perform(piano)\n",
        ""
      ],
      "metadata": {
        "colab": {
          "base_uri": "https://localhost:8080/"
        },
        "id": "qVItYR9NEGnR",
        "outputId": "ac43727e-9bb5-4b94-9144-46532bed8e06"
      },
      "execution_count": 14,
      "outputs": [
        {
          "output_type": "stream",
          "name": "stdout",
          "text": [
            "Strumming the guitar!\n",
            "Playing the piano!\n"
          ]
        }
      ]
    },
    {
      "cell_type": "code",
      "source": [
        "# 7. Create a class MathOperations with a class method add_numbers() to add two numbers and a static method subtract_numbers() to subtract two numbers.\n",
        "class MathOperations:\n",
        "    @classmethod\n",
        "    def add_numbers(cls, a, b):\n",
        "        return a + b\n",
        "\n",
        "    @staticmethod\n",
        "    def subtract_numbers(a, b):\n",
        "        return a - b\n",
        "\n",
        "\n",
        "result_add = MathOperations.add_numbers(50, 25)\n",
        "print(f\"Addition Result: {result_add}\")\n",
        "\n",
        "result_subtract = MathOperations.subtract_numbers(100, 65)\n",
        "print(f\"Subtraction Result: {result_subtract}\")\n",
        "\n"
      ],
      "metadata": {
        "colab": {
          "base_uri": "https://localhost:8080/"
        },
        "id": "itkAqjZBFKd5",
        "outputId": "acca331c-a3c4-4791-fc40-212d540456cc"
      },
      "execution_count": 16,
      "outputs": [
        {
          "output_type": "stream",
          "name": "stdout",
          "text": [
            "Addition Result: 75\n",
            "Subtraction Result: 35\n"
          ]
        }
      ]
    },
    {
      "cell_type": "code",
      "source": [
        "# 8. Implement a class Person with a class method to count the total number of persons created.\n",
        "class Person:\n",
        "    total_persons = 0\n",
        "\n",
        "    def __init__(self, name):\n",
        "        self.name = name\n",
        "        Person.total_persons += 1\n",
        "\n",
        "    @classmethod\n",
        "    def count_persons(cls):\n",
        "        return cls.total_persons\n",
        "\n",
        "\n",
        "person1 = Person(\"Rakesh\")\n",
        "person2 = Person(\"Krishna\")\n",
        "person3 = Person(\"Komal\")\n",
        "\n",
        "# Count the total number of persons created\n",
        "total = Person.count_persons()\n",
        "print(f\"Total Persons Created: {total}\")"
      ],
      "metadata": {
        "colab": {
          "base_uri": "https://localhost:8080/"
        },
        "id": "8Gvf9W-SGZT6",
        "outputId": "6f88a897-c60a-4a62-d77e-c5c17542579b"
      },
      "execution_count": 18,
      "outputs": [
        {
          "output_type": "stream",
          "name": "stdout",
          "text": [
            "Total Persons Created: 3\n"
          ]
        }
      ]
    },
    {
      "cell_type": "code",
      "source": [
        "# 9. Write a class Fraction with attributes numerator and denominator. Override the str method to display the fraction as \"numerator/denominator\".\n",
        "class Fraction:\n",
        "    def __init__(self, numerator, denominator):\n",
        "        self.numerator = numerator\n",
        "        self.denominator = denominator\n",
        "\n",
        "    def __str__(self):\n",
        "        return f\"{self.numerator}/{self.denominator}\"\n",
        "\n",
        "fraction1 = Fraction(8, 9)\n",
        "print(fraction1)\n",
        "\n",
        "fraction2 = Fraction(7, 3)\n",
        "print(fraction2)\n"
      ],
      "metadata": {
        "colab": {
          "base_uri": "https://localhost:8080/"
        },
        "id": "4V78lbRdHqKB",
        "outputId": "6ab31c84-d4e3-4c17-ef62-63b5980f87be"
      },
      "execution_count": 19,
      "outputs": [
        {
          "output_type": "stream",
          "name": "stdout",
          "text": [
            "8/9\n",
            "7/3\n"
          ]
        }
      ]
    },
    {
      "cell_type": "code",
      "source": [
        "# 10. Demonstrate operator overloading by creating a class Vector and overriding the add method to add two vectors.\n",
        "class Vector:\n",
        "    def __init__(self, x, y):\n",
        "        self.x = x\n",
        "        self.y = y\n",
        "\n",
        "    def __add__(self, other):\n",
        "        if isinstance(other, Vector):\n",
        "            return Vector(self.x + other.x, self.y + other.y)\n",
        "        return NotImplemented\n",
        "\n",
        "    def __str__(self):\n",
        "        return f\"Vector({self.x}, {self.y})\"\n",
        "\n",
        "vector1 = Vector(3, 6)\n",
        "vector2 = Vector(4, 9)\n",
        "\n",
        "# Adding two vectors using the overloaded + operator\n",
        "result_vector = vector1 + vector2\n",
        "\n",
        "# Displaying the result\n",
        "print(result_vector)"
      ],
      "metadata": {
        "colab": {
          "base_uri": "https://localhost:8080/"
        },
        "id": "YiK3NMC3I7xM",
        "outputId": "1259bd35-47b3-4d3c-8afa-b166213c892a"
      },
      "execution_count": 22,
      "outputs": [
        {
          "output_type": "stream",
          "name": "stdout",
          "text": [
            "Vector(7, 15)\n"
          ]
        }
      ]
    },
    {
      "cell_type": "code",
      "source": [
        "# 11. Create a class Person with attributes name and age. Add a method greet() that prints \"Hello, my name is {name} and I am {age} years old.\"\n",
        "class Person:\n",
        "    def __init__(self, name, age):\n",
        "        self.name = name\n",
        "        self.age = age\n",
        "\n",
        "    def greet(self):\n",
        "        print(f\"Hello, my name is {self.name} and I am {self.age} years old.\")\n",
        "\n",
        "# Create a Person object\n",
        "person1 = Person(\"Sachin\", 24)\n",
        "\n",
        "# Call the greet method\n",
        "person1.greet()\n"
      ],
      "metadata": {
        "colab": {
          "base_uri": "https://localhost:8080/"
        },
        "id": "5YZeqdLrJl-P",
        "outputId": "03233a90-0626-472b-e573-f7b958528d00"
      },
      "execution_count": 23,
      "outputs": [
        {
          "output_type": "stream",
          "name": "stdout",
          "text": [
            "Hello, my name is Sachin and I am 24 years old.\n"
          ]
        }
      ]
    },
    {
      "cell_type": "code",
      "source": [
        "# 12. Implement a class Student with attributes name and grades. Create a method average_grade() to compute the average of the grades.\n",
        "class Student:\n",
        "    def __init__(self, name, grades):\n",
        "        self.name = name\n",
        "        self.grades = grades\n",
        "\n",
        "    def average_grade(self):\n",
        "        if len(self.grades) == 0:\n",
        "            return \"No grades available\"\n",
        "        return sum(self.grades) / len(self.grades)\n",
        "\n",
        "student1 = Student(\"Ram\", [55, 70, 95])\n",
        "print(student1.average_grade())"
      ],
      "metadata": {
        "colab": {
          "base_uri": "https://localhost:8080/"
        },
        "id": "SG3RYWjCLVhQ",
        "outputId": "1f312c52-7595-42f9-d6f5-fa1efbfe3ecc"
      },
      "execution_count": 28,
      "outputs": [
        {
          "output_type": "stream",
          "name": "stdout",
          "text": [
            "73.33333333333333\n"
          ]
        }
      ]
    },
    {
      "cell_type": "code",
      "source": [
        "# 13. Create a class Rectangle with methods set_dimensions() to set the dimensions and area() to calculate the area.\n",
        "class Rectangle:\n",
        "    def __init__(self):\n",
        "        self.length = 0\n",
        "        self.width = 0\n",
        "\n",
        "    def set_dimensions(self, length, width):\n",
        "        self.length = length\n",
        "        self.width = width\n",
        "\n",
        "    def area(self):\n",
        "        return self.length * self.width\n",
        "\n",
        "rect = Rectangle()\n",
        "rect.set_dimensions(8, 4)\n",
        "print(rect.area())"
      ],
      "metadata": {
        "colab": {
          "base_uri": "https://localhost:8080/"
        },
        "id": "xo8Tvps0L9zE",
        "outputId": "fcaccde9-e7be-4335-d5db-dd43632acabe"
      },
      "execution_count": 32,
      "outputs": [
        {
          "output_type": "stream",
          "name": "stdout",
          "text": [
            "32\n"
          ]
        }
      ]
    },
    {
      "cell_type": "code",
      "source": [
        "# 14. Create a class Employee with a method calculate_salary() that computes the salary based on hours worked and hourly rate. Create a derived class Manager that adds a bonus to the salary.\n",
        "class Employee:\n",
        "    def __init__(self, name, hours_worked, hourly_rate):\n",
        "        self.name = name\n",
        "        self.hours_worked = hours_worked\n",
        "        self.hourly_rate = hourly_rate\n",
        "\n",
        "    def calculate_salary(self):\n",
        "        return self.hours_worked * self.hourly_rate\n",
        "\n",
        "class Manager(Employee):\n",
        "    def __init__(self, name, hours_worked, hourly_rate, bonus):\n",
        "        super().__init__(name, hours_worked, hourly_rate)\n",
        "        self.bonus = bonus\n",
        "\n",
        "    def calculate_salary(self):\n",
        "        base_salary = super().calculate_salary()\n",
        "        return base_salary + self.bonus\n",
        "\n",
        "employee = Employee(\"Simran ashok\", 60, 40)\n",
        "print(f\"Employee Salary: ${employee.calculate_salary()}\")\n",
        "\n",
        "manager = Manager(\"Smriti sinha\", 80, 50, 1000)\n",
        "print(f\"Manager Salary: ${manager.calculate_salary()}\")"
      ],
      "metadata": {
        "colab": {
          "base_uri": "https://localhost:8080/"
        },
        "id": "QTRlxw0vMeCV",
        "outputId": "be54779d-e114-467c-dc66-0bc747c381be"
      },
      "execution_count": 2,
      "outputs": [
        {
          "output_type": "stream",
          "name": "stdout",
          "text": [
            "Employee Salary: $2400\n",
            "Manager Salary: $5000\n"
          ]
        }
      ]
    },
    {
      "cell_type": "code",
      "source": [
        "# 15. Create a class Product with attributes name, price, and quantity. Implement a method total_price() that calculates the total price of the product.\n",
        "class Product:\n",
        "    def __init__(self, name, price, quantity):\n",
        "        self.name = name\n",
        "        self.price = price\n",
        "        self.quantity = quantity\n",
        "\n",
        "    def total_price(self):\n",
        "        return self.price * self.quantity\n",
        "\n",
        "product = Product(\"Bike\", 2000, 4)\n",
        "print(f\"Total price for {product.quantity} {product.name}(s): ${product.total_price()}\")"
      ],
      "metadata": {
        "colab": {
          "base_uri": "https://localhost:8080/"
        },
        "id": "AIZ-JXNjn9G4",
        "outputId": "2b4fd7f5-b471-4a77-8ee0-799c2e63d6d9"
      },
      "execution_count": 3,
      "outputs": [
        {
          "output_type": "stream",
          "name": "stdout",
          "text": [
            "Total price for 4 Bike(s): $8000\n"
          ]
        }
      ]
    },
    {
      "cell_type": "code",
      "source": [
        "# 16. Create a class Animal with an abstract method sound(). Create two derived classes Cow and Sheep that implement the sound() method.\n",
        "from abc import ABC, abstractmethod\n",
        "\n",
        "class Animal(ABC):\n",
        "    @abstractmethod\n",
        "    def sound(self):\n",
        "        pass\n",
        "\n",
        "class Cow(Animal):\n",
        "    def sound(self):\n",
        "        return \"Moo\"\n",
        "\n",
        "class Sheep(Animal):\n",
        "    def sound(self):\n",
        "        return \"Baa\"\n",
        "\n",
        "cow = Cow()\n",
        "sheep = Sheep()\n",
        "\n",
        "print(f\"Cow sound: {cow.sound()}\")\n",
        "print(f\"Sheep sound: {sheep.sound()}\")"
      ],
      "metadata": {
        "colab": {
          "base_uri": "https://localhost:8080/"
        },
        "id": "1OA8XnEip4oc",
        "outputId": "3465f13d-90a5-4f67-c066-a89c5883e70c"
      },
      "execution_count": 4,
      "outputs": [
        {
          "output_type": "stream",
          "name": "stdout",
          "text": [
            "Cow sound: Moo\n",
            "Sheep sound: Baa\n"
          ]
        }
      ]
    },
    {
      "cell_type": "code",
      "source": [
        "# 17. Create a class Book with attributes title, author, and year_published. Add a method get_book_info() that returns a formatted string with the book's details.\n",
        "class Book:\n",
        "    def __init__(self, title, author, year_published):\n",
        "        self.title = title\n",
        "        self.author = author\n",
        "        self.year_published = year_published\n",
        "\n",
        "    def get_book_info(self):\n",
        "        return f\"'{self.title}' by {self.author}, published in {self.year_published}\"\n",
        "\n",
        "book = Book(\"The Sum of All Fears\", \"Tom Clancy\", 1991)\n",
        "print(book.get_book_info())"
      ],
      "metadata": {
        "colab": {
          "base_uri": "https://localhost:8080/"
        },
        "id": "ugIt8cQ1qvV7",
        "outputId": "46c70ad5-dad6-4629-ea16-85f8c6d55e91"
      },
      "execution_count": 8,
      "outputs": [
        {
          "output_type": "stream",
          "name": "stdout",
          "text": [
            "'The Sum of All Fears' by Tom Clancy, published in 1991\n"
          ]
        }
      ]
    },
    {
      "cell_type": "code",
      "source": [
        "# 18. Create a class House with attributes address and price. Create a derived class Mansion that adds an attribute number_of_rooms.\n",
        "class House:\n",
        "    def __init__(self, address, price):\n",
        "        self.address = address\n",
        "        self.price = price\n",
        "\n",
        "class Mansion(House):\n",
        "    def __init__(self, address, price, number_of_rooms):\n",
        "        super().__init__(address, price)\n",
        "        self.number_of_rooms = number_of_rooms\n",
        "\n",
        "house = House(\"143 New Rte\", 350000)\n",
        "print(f\"House Address: {house.address}, Price: ${house.price}\")\n",
        "\n",
        "mansion = Mansion(\"888 Classic Ornate\", 2500000, 20)\n",
        "print(f\"Mansion Address: {mansion.address}, Price: ${mansion.price}, Rooms: {mansion.number_of_rooms}\")"
      ],
      "metadata": {
        "colab": {
          "base_uri": "https://localhost:8080/"
        },
        "id": "O5B-PF0as-j7",
        "outputId": "b881b339-6a1b-4f65-ec38-1c6da5fcd692"
      },
      "execution_count": 6,
      "outputs": [
        {
          "output_type": "stream",
          "name": "stdout",
          "text": [
            "House Address: 143 New Rte, Price: $350000\n",
            "Mansion Address: 888 Classic Ornate, Price: $2500000, Rooms: 20\n"
          ]
        }
      ]
    },
    {
      "cell_type": "code",
      "source": [],
      "metadata": {
        "id": "Rx0mWfHuueq4"
      },
      "execution_count": null,
      "outputs": []
    }
  ]
}